{
 "cells": [
  {
   "cell_type": "code",
   "execution_count": 1,
   "id": "0bcaf639",
   "metadata": {},
   "outputs": [],
   "source": [
    "import pandas as pd\n",
    "import numpy as np\n",
    "from sklearn.model_selection import train_test_split\n",
    "from sklearn.preprocessing import OneHotEncoder\n",
    "from sklearn.impute import SimpleImputer"
   ]
  },
  {
   "cell_type": "code",
   "execution_count": 2,
   "id": "76db6b52",
   "metadata": {},
   "outputs": [
    {
     "name": "stderr",
     "output_type": "stream",
     "text": [
      "C:\\Users\\Daniel.Temesgen\\AppData\\Local\\Temp\\ipykernel_6876\\3030545956.py:3: DtypeWarning: Columns (32,37) have mixed types. Specify dtype option on import or set low_memory=False.\n",
      "  df = pd.read_csv('data/insurance_data.csv')\n"
     ]
    }
   ],
   "source": [
    "# Load DVC-tracked data\n",
    "# Run in terminal: dvc checkout\n",
    "df = pd.read_csv('data/insurance_data.csv')"
   ]
  },
  {
   "cell_type": "code",
   "execution_count": 7,
   "id": "a2024193",
   "metadata": {},
   "outputs": [
    {
     "name": "stdout",
     "output_type": "stream",
     "text": [
      "Index(['UnderwrittenCoverID', 'PolicyID', 'TransactionMonth',\n",
      "       'IsVATRegistered', 'Citizenship', 'LegalType', 'Title', 'Language',\n",
      "       'Bank', 'AccountType', 'MaritalStatus', 'Gender', 'Country', 'Province',\n",
      "       'PostalCode', 'MainCrestaZone', 'SubCrestaZone', 'ItemType', 'mmcode',\n",
      "       'VehicleType', 'RegistrationYear', 'make', 'Model', 'Cylinders',\n",
      "       'cubiccapacity', 'kilowatts', 'bodytype', 'NumberOfDoors',\n",
      "       'VehicleIntroDate', 'CustomValueEstimate', 'AlarmImmobiliser',\n",
      "       'TrackingDevice', 'CapitalOutstanding', 'NewVehicle', 'WrittenOff',\n",
      "       'Rebuilt', 'Converted', 'CrossBorder', 'NumberOfVehiclesInFleet',\n",
      "       'SumInsured', 'TermFrequency', 'CalculatedPremiumPerTerm',\n",
      "       'ExcessSelected', 'CoverCategory', 'CoverType', 'CoverGroup', 'Section',\n",
      "       'Product', 'StatutoryClass', 'StatutoryRiskType', 'TotalPremium',\n",
      "       'TotalClaims', 'RiskScore', 'HasClaim', 'VehicleAge',\n",
      "       'PremiumToValueRatio'],\n",
      "      dtype='object')\n"
     ]
    }
   ],
   "source": [
    "print(df.columns)"
   ]
  },
  {
   "cell_type": "code",
   "execution_count": 4,
   "id": "0d6c55cd",
   "metadata": {},
   "outputs": [
    {
     "name": "stderr",
     "output_type": "stream",
     "text": [
      "C:\\Users\\Daniel.Temesgen\\AppData\\Local\\Temp\\ipykernel_6876\\3941814264.py:6: FutureWarning: A value is trying to be set on a copy of a DataFrame or Series through chained assignment using an inplace method.\n",
      "The behavior will change in pandas 3.0. This inplace method will never work because the intermediate object on which we are setting values always behaves as a copy.\n",
      "\n",
      "For example, when doing 'df[col].method(value, inplace=True)', try using 'df.method({col: value}, inplace=True)' or df[col] = df[col].method(value) instead, to perform the operation inplace on the original object.\n",
      "\n",
      "\n",
      "  df['Province'].fillna(df['Province'].mode()[0], inplace=True)\n"
     ]
    }
   ],
   "source": [
    "\n",
    "# Handle missing values\n",
    "# Impute TotalClaims with median\n",
    "imputer = SimpleImputer(strategy='median')\n",
    "df['TotalClaims'] = imputer.fit_transform(df[['TotalClaims']])\n",
    "# Impute Province with mode\n",
    "df['Province'].fillna(df['Province'].mode()[0], inplace=True)\n",
    "\n",
    "# Feature engineering\n",
    "# 1. HasClaim (binary for classification)\n",
    "df['HasClaim'] = (df['TotalClaims'] > 0).astype(int)\n",
    "# 2. VehicleAge (assume CustomValueEstimate proxies age inversely)\n",
    "df['VehicleAge'] = 1 / (df['CustomValueEstimate'] / 1000)  # Higher value = newer vehicle\n",
    "# 3. PremiumToValueRatio\n",
    "df['PremiumToValueRatio'] = df['TotalPremium'] / df['CustomValueEstimate']\n",
    "\n"
   ]
  },
  {
   "cell_type": "code",
   "execution_count": 8,
   "id": "5030d00d",
   "metadata": {},
   "outputs": [],
   "source": [
    "# Encode categorical variables\n",
    "categorical_cols = ['Province', 'VehicleType', 'Gender', 'PostalCode', 'make']\n",
    "encoder = OneHotEncoder(sparse_output=False, drop='first')\n",
    "encoded_cols = pd.DataFrame(encoder.fit_transform(df[categorical_cols]),\n",
    "                            columns=encoder.get_feature_names_out(categorical_cols))\n",
    "df_encoded = pd.concat([df.drop(categorical_cols, axis=1), encoded_cols], axis=1)\n",
    "\n",
    "# Train-test split\n",
    "# Regression: Claim Severity (TotalClaims where HasClaim == 1)\n",
    "severity_data = df_encoded[df_encoded['HasClaim'] == 1]\n",
    "X_severity = severity_data.drop(['TotalClaims', 'HasClaim', 'TransactionMonth'], axis=1)\n",
    "y_severity = severity_data['TotalClaims']\n",
    "X_sev_train, X_sev_test, y_sev_train, y_sev_test = train_test_split(X_severity, y_severity, test_size=0.2, random_state=42)\n",
    "\n",
    "# Regression: Premium Optimization (TotalPremium)\n",
    "X_premium = df_encoded.drop(['TotalPremium', 'TotalClaims', 'HasClaim', 'TransactionMonth'], axis=1)\n",
    "y_premium = df_encoded['TotalPremium']\n",
    "X_prem_train, X_prem_test, y_prem_train, y_prem_test = train_test_split(X_premium, y_premium, test_size=0.2, random_state=42)\n",
    "\n",
    "# Classification: Claim Probability (HasClaim)\n",
    "X_claim = df_encoded.drop(['HasClaim', 'TotalClaims', 'TransactionMonth'], axis=1)\n",
    "y_claim = df_encoded['HasClaim']\n",
    "X_claim_train, X_claim_test, y_claim_train, y_claim_test = train_test_split(X_claim, y_claim, test_size=0.2, random_state=42)\n",
    "\n",
    "# Commit data prep\n",
    "# In terminal:\n",
    "# git add notebooks/modeling_task4.ipynb\n",
    "# git commit -m \"Add data preparation for modeling (imputation, feature engineering, encoding)\""
   ]
  }
 ],
 "metadata": {
  "kernelspec": {
   "display_name": "evenv",
   "language": "python",
   "name": "python3"
  },
  "language_info": {
   "codemirror_mode": {
    "name": "ipython",
    "version": 3
   },
   "file_extension": ".py",
   "mimetype": "text/x-python",
   "name": "python",
   "nbconvert_exporter": "python",
   "pygments_lexer": "ipython3",
   "version": "3.13.2"
  }
 },
 "nbformat": 4,
 "nbformat_minor": 5
}
